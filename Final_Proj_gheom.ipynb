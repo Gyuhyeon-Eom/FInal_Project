{
 "cells": [
  {
   "cell_type": "code",
   "execution_count": 2,
   "id": "c62db2e3-faa4-4bdd-a603-1012d9087800",
   "metadata": {},
   "outputs": [],
   "source": [
    "import pandas as pd"
   ]
  },
  {
   "cell_type": "code",
   "execution_count": 3,
   "id": "5fe1d9a1-e728-4730-a227-23ed004a6e86",
   "metadata": {},
   "outputs": [],
   "source": [
    "df1 = pd.read_csv('2023_data/df1.csv', encoding='euc-kr')\n",
    "df2 = pd.read_csv('2023_data/df2.csv', encoding='euc-kr')\n",
    "df3 = pd.read_csv('2023_data/df3.csv', encoding='euc-kr')\n",
    "df4 = pd.read_csv('2023_data/df4.csv', encoding='euc-kr')\n",
    "df5 = pd.read_csv('2023_data/df5.csv', encoding='euc-kr')\n",
    "df6 = pd.read_csv('2023_data/df6.csv', encoding='euc-kr')"
   ]
  },
  {
   "cell_type": "code",
   "execution_count": 5,
   "id": "a72d0528-58aa-4799-a619-2e0eaabc0081",
   "metadata": {},
   "outputs": [
    {
     "data": {
      "text/html": [
       "<div>\n",
       "<style scoped>\n",
       "    .dataframe tbody tr th:only-of-type {\n",
       "        vertical-align: middle;\n",
       "    }\n",
       "\n",
       "    .dataframe tbody tr th {\n",
       "        vertical-align: top;\n",
       "    }\n",
       "\n",
       "    .dataframe thead th {\n",
       "        text-align: right;\n",
       "    }\n",
       "</style>\n",
       "<table border=\"1\" class=\"dataframe\">\n",
       "  <thead>\n",
       "    <tr style=\"text-align: right;\">\n",
       "      <th></th>\n",
       "      <th>성별</th>\n",
       "      <th>나이</th>\n",
       "      <th>이동인구(합)</th>\n",
       "      <th>행정동명</th>\n",
       "    </tr>\n",
       "  </thead>\n",
       "  <tbody>\n",
       "    <tr>\n",
       "      <th>0</th>\n",
       "      <td>F</td>\n",
       "      <td>20</td>\n",
       "      <td>39.07</td>\n",
       "      <td>서울특별시 종로구 사직동</td>\n",
       "    </tr>\n",
       "    <tr>\n",
       "      <th>1</th>\n",
       "      <td>F</td>\n",
       "      <td>20</td>\n",
       "      <td>*</td>\n",
       "      <td>서울특별시 종로구 사직동</td>\n",
       "    </tr>\n",
       "    <tr>\n",
       "      <th>2</th>\n",
       "      <td>F</td>\n",
       "      <td>20</td>\n",
       "      <td>*</td>\n",
       "      <td>서울특별시 종로구 사직동</td>\n",
       "    </tr>\n",
       "    <tr>\n",
       "      <th>3</th>\n",
       "      <td>F</td>\n",
       "      <td>25</td>\n",
       "      <td>*</td>\n",
       "      <td>서울특별시 종로구 사직동</td>\n",
       "    </tr>\n",
       "    <tr>\n",
       "      <th>4</th>\n",
       "      <td>F</td>\n",
       "      <td>25</td>\n",
       "      <td>4.08</td>\n",
       "      <td>서울특별시 종로구 사직동</td>\n",
       "    </tr>\n",
       "  </tbody>\n",
       "</table>\n",
       "</div>"
      ],
      "text/plain": [
       "  성별  나이 이동인구(합)           행정동명\n",
       "0  F  20   39.07  서울특별시 종로구 사직동\n",
       "1  F  20       *  서울특별시 종로구 사직동\n",
       "2  F  20       *  서울특별시 종로구 사직동\n",
       "3  F  25       *  서울특별시 종로구 사직동\n",
       "4  F  25    4.08  서울특별시 종로구 사직동"
      ]
     },
     "execution_count": 5,
     "metadata": {},
     "output_type": "execute_result"
    }
   ],
   "source": [
    "df1.head()"
   ]
  },
  {
   "cell_type": "code",
   "execution_count": 6,
   "id": "b79f00f4-4bae-48da-9711-d713b1fbad20",
   "metadata": {},
   "outputs": [
    {
     "data": {
      "text/html": [
       "<div>\n",
       "<style scoped>\n",
       "    .dataframe tbody tr th:only-of-type {\n",
       "        vertical-align: middle;\n",
       "    }\n",
       "\n",
       "    .dataframe tbody tr th {\n",
       "        vertical-align: top;\n",
       "    }\n",
       "\n",
       "    .dataframe thead th {\n",
       "        text-align: right;\n",
       "    }\n",
       "</style>\n",
       "<table border=\"1\" class=\"dataframe\">\n",
       "  <thead>\n",
       "    <tr style=\"text-align: right;\">\n",
       "      <th></th>\n",
       "      <th>성별</th>\n",
       "      <th>나이</th>\n",
       "      <th>이동인구(합)</th>\n",
       "      <th>행정동명</th>\n",
       "    </tr>\n",
       "  </thead>\n",
       "  <tbody>\n",
       "    <tr>\n",
       "      <th>0</th>\n",
       "      <td>F</td>\n",
       "      <td>20</td>\n",
       "      <td>*</td>\n",
       "      <td>서울특별시 종로구 사직동</td>\n",
       "    </tr>\n",
       "    <tr>\n",
       "      <th>1</th>\n",
       "      <td>F</td>\n",
       "      <td>20</td>\n",
       "      <td>*</td>\n",
       "      <td>서울특별시 종로구 사직동</td>\n",
       "    </tr>\n",
       "    <tr>\n",
       "      <th>2</th>\n",
       "      <td>F</td>\n",
       "      <td>20</td>\n",
       "      <td>*</td>\n",
       "      <td>서울특별시 종로구 사직동</td>\n",
       "    </tr>\n",
       "    <tr>\n",
       "      <th>3</th>\n",
       "      <td>F</td>\n",
       "      <td>25</td>\n",
       "      <td>6.19</td>\n",
       "      <td>서울특별시 종로구 사직동</td>\n",
       "    </tr>\n",
       "    <tr>\n",
       "      <th>4</th>\n",
       "      <td>F</td>\n",
       "      <td>25</td>\n",
       "      <td>*</td>\n",
       "      <td>서울특별시 종로구 사직동</td>\n",
       "    </tr>\n",
       "  </tbody>\n",
       "</table>\n",
       "</div>"
      ],
      "text/plain": [
       "  성별  나이 이동인구(합)           행정동명\n",
       "0  F  20       *  서울특별시 종로구 사직동\n",
       "1  F  20       *  서울특별시 종로구 사직동\n",
       "2  F  20       *  서울특별시 종로구 사직동\n",
       "3  F  25    6.19  서울특별시 종로구 사직동\n",
       "4  F  25       *  서울특별시 종로구 사직동"
      ]
     },
     "execution_count": 6,
     "metadata": {},
     "output_type": "execute_result"
    }
   ],
   "source": [
    "df2.head()"
   ]
  },
  {
   "cell_type": "code",
   "execution_count": 7,
   "id": "408210f2-ac66-4ce5-9b92-1df0bce6ac32",
   "metadata": {},
   "outputs": [],
   "source": [
    "import numpy as np"
   ]
  },
  {
   "cell_type": "code",
   "execution_count": 8,
   "id": "1fdf7c16-1509-46d3-90e2-eeb84cfbc89c",
   "metadata": {},
   "outputs": [],
   "source": [
    "dataframes = [df1, df2, df3, df4, df5, df6]"
   ]
  },
  {
   "cell_type": "code",
   "execution_count": 40,
   "id": "b33f8431-3d32-4053-9107-ba1b0ac4770b",
   "metadata": {},
   "outputs": [],
   "source": [
    "months = [1, 2, 3, 4, 5, 6]"
   ]
  },
  {
   "cell_type": "code",
   "execution_count": 41,
   "id": "3a4d15f8-b358-4991-a3db-735eb4bec25d",
   "metadata": {},
   "outputs": [],
   "source": [
    "updated_dataframes = []"
   ]
  },
  {
   "cell_type": "code",
   "execution_count": null,
   "id": "03b98854-24e7-4560-9770-93f8c1819a77",
   "metadata": {},
   "outputs": [],
   "source": [
    "for i, df in enumerate(dataframes):\n",
    "    # 이동인구 열의 *을 2로 대체하고 float 형으로 변환\n",
    "    df['이동인구(합)'] = df['이동인구(합)'].replace('*', 2).astype(float)\n",
    "    \n",
    "    # 연월 열 추가 (연도는 예시로 2023년으로 가정)\n",
    "    df['연월'] = f'2023-{months[i]:02d}'\n",
    "\n",
    "    # 나이를 10살 단위로 변환하되, 60대 이상은 하나의 그룹으로 묶음\n",
    "    df['나이대'] = df['나이'].apply(lambda x: 60 if x >= 60 else (x // 10) * 10)\n",
    "    \n",
    "    # 경기도와 서울특별시에 해당하는 행만 필터링\n",
    "    df = df[df['행정동명'].str.contains('경기도|서울특별시')]\n",
    "\n",
    "    # 행정동별 남녀 비율 계산\n",
    "    gender_ratio = df.groupby(['행정동명', '성별']).size().unstack().fillna(0)\n",
    "    gender_ratio['남자 비율'] = gender_ratio.get('M', 0) / gender_ratio.sum(axis=1)\n",
    "    gender_ratio['여자 비율'] = gender_ratio.get('F', 0) / gender_ratio.sum(axis=1)\n",
    "\n",
    "    # 행정동별 10살 단위 나이대 비율 계산, 60대 이상은 '60대 이상'으로 묶음\n",
    "    age_ratio = df.groupby(['행정동명', '나이대']).size().unstack().fillna(0)\n",
    "    age_ratio = age_ratio.div(age_ratio.sum(axis=1), axis=0)\n",
    "\n",
    "    # 데이터프레임으로 결과 정리\n",
    "    result_df = pd.DataFrame({\n",
    "        '연월': df['연월'].iloc[0],\n",
    "        '남자 비율': gender_ratio['남자 비율'],\n",
    "        '여자 비율': gender_ratio['여자 비율']\n",
    "    })\n",
    "\n",
    "    # 10살 단위 나이대 비율 열 추가 (0대, 10대, ..., 50대, 60대 이상)\n",
    "    for age in range(0, 60, 10):\n",
    "        age_column_name = f'{age}대 비율'\n",
    "        result_df[age_column_name] = age_ratio.get(age, 0)  # 값이 없으면 0으로 채움\n",
    "    # 60대 이상 비율 열 추가\n",
    "    result_df['60대 이상 비율'] = age_ratio.loc[:, 60] if 60 in age_ratio.columns else 0\n",
    "\n",
    "    # 결과를 리스트에 추가\n",
    "    updated_dataframes.append(result_df)"
   ]
  },
  {
   "cell_type": "code",
   "execution_count": null,
   "id": "f3fc97c9-a0d1-4e4e-bae5-9b14c5aac0bc",
   "metadata": {},
   "outputs": [],
   "source": [
    "final_result = pd.concat(updated_dataframes)"
   ]
  },
  {
   "cell_type": "code",
   "execution_count": null,
   "id": "e9e23b82-9d31-4cb5-a1f4-9852c89fea7c",
   "metadata": {},
   "outputs": [],
   "source": [
    "final_result.to_csv('2023_01_06.csv', index=True)"
   ]
  },
  {
   "cell_type": "code",
   "execution_count": null,
   "id": "c0478236-c8ba-4f6a-abff-5611086fcb52",
   "metadata": {},
   "outputs": [],
   "source": [
    "final_data = pd.read_csv('2023_01_06.csv')"
   ]
  },
  {
   "cell_type": "code",
   "execution_count": null,
   "id": "154d0dff-e6bd-4898-8c11-18a3b70dcc4e",
   "metadata": {},
   "outputs": [],
   "source": [
    "final_data.head()"
   ]
  },
  {
   "cell_type": "code",
   "execution_count": null,
   "id": "d7c8e06b-7edf-4e68-8a5b-b96a7b29428d",
   "metadata": {},
   "outputs": [],
   "source": []
  }
 ],
 "metadata": {
  "kernelspec": {
   "display_name": "Python 3 (ipykernel)",
   "language": "python",
   "name": "python3"
  },
  "language_info": {
   "codemirror_mode": {
    "name": "ipython",
    "version": 3
   },
   "file_extension": ".py",
   "mimetype": "text/x-python",
   "name": "python",
   "nbconvert_exporter": "python",
   "pygments_lexer": "ipython3",
   "version": "3.11.7"
  }
 },
 "nbformat": 4,
 "nbformat_minor": 5
}
