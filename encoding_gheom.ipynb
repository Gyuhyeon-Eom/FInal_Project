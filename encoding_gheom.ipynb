{
 "cells": [
  {
   "cell_type": "code",
   "execution_count": 1,
   "id": "d89d87a5-b7be-4029-95c6-2464ad6655d0",
   "metadata": {},
   "outputs": [],
   "source": [
    "import pandas as pd"
   ]
  },
  {
   "cell_type": "code",
   "execution_count": 2,
   "id": "ef888fb1-6ff9-44c5-9ecb-1a24f52af104",
   "metadata": {},
   "outputs": [],
   "source": [
    "import glob"
   ]
  },
  {
   "cell_type": "code",
   "execution_count": 43,
   "id": "48d321aa-7af4-4703-bea1-d733a6a875cc",
   "metadata": {},
   "outputs": [],
   "source": [
    "file_path = '생활이동_행정동_202306/*.csv'"
   ]
  },
  {
   "cell_type": "code",
   "execution_count": 44,
   "id": "4f864132-8c3c-4175-932b-417a30151f58",
   "metadata": {},
   "outputs": [],
   "source": [
    "file_list = glob.glob(file_path)"
   ]
  },
  {
   "cell_type": "code",
   "execution_count": 45,
   "id": "cbba4896-123a-4636-91b5-e497cb9b2a69",
   "metadata": {},
   "outputs": [],
   "source": [
    "columns_to_keep = ['도착 행정동 코드','성별','나이', '이동인구(합)']"
   ]
  },
  {
   "cell_type": "code",
   "execution_count": 46,
   "id": "e024c116-db39-4df9-8b68-a81d4d968c01",
   "metadata": {},
   "outputs": [],
   "source": [
    "df_list = [pd.read_csv(file, usecols=columns_to_keep, encoding='euc-kr') for file in file_list]"
   ]
  },
  {
   "cell_type": "code",
   "execution_count": 47,
   "id": "e803d1d1-a6cf-49e2-87b5-409e9b8f88b4",
   "metadata": {},
   "outputs": [],
   "source": [
    "df = pd.concat(df_list, ignore_index=True)"
   ]
  },
  {
   "cell_type": "code",
   "execution_count": 48,
   "id": "8a9cd731-4499-4f2f-8087-d4fe392bafa5",
   "metadata": {},
   "outputs": [
    {
     "data": {
      "text/html": [
       "<div>\n",
       "<style scoped>\n",
       "    .dataframe tbody tr th:only-of-type {\n",
       "        vertical-align: middle;\n",
       "    }\n",
       "\n",
       "    .dataframe tbody tr th {\n",
       "        vertical-align: top;\n",
       "    }\n",
       "\n",
       "    .dataframe thead th {\n",
       "        text-align: right;\n",
       "    }\n",
       "</style>\n",
       "<table border=\"1\" class=\"dataframe\">\n",
       "  <thead>\n",
       "    <tr style=\"text-align: right;\">\n",
       "      <th></th>\n",
       "      <th>도착 행정동 코드</th>\n",
       "      <th>성별</th>\n",
       "      <th>나이</th>\n",
       "      <th>이동인구(합)</th>\n",
       "    </tr>\n",
       "  </thead>\n",
       "  <tbody>\n",
       "    <tr>\n",
       "      <th>0</th>\n",
       "      <td>1101053</td>\n",
       "      <td>F</td>\n",
       "      <td>15</td>\n",
       "      <td>8.08</td>\n",
       "    </tr>\n",
       "    <tr>\n",
       "      <th>1</th>\n",
       "      <td>1101053</td>\n",
       "      <td>F</td>\n",
       "      <td>20</td>\n",
       "      <td>4.39</td>\n",
       "    </tr>\n",
       "    <tr>\n",
       "      <th>2</th>\n",
       "      <td>1101053</td>\n",
       "      <td>F</td>\n",
       "      <td>20</td>\n",
       "      <td>4.36</td>\n",
       "    </tr>\n",
       "    <tr>\n",
       "      <th>3</th>\n",
       "      <td>1101053</td>\n",
       "      <td>F</td>\n",
       "      <td>25</td>\n",
       "      <td>6.16</td>\n",
       "    </tr>\n",
       "    <tr>\n",
       "      <th>4</th>\n",
       "      <td>1101053</td>\n",
       "      <td>F</td>\n",
       "      <td>25</td>\n",
       "      <td>4.09</td>\n",
       "    </tr>\n",
       "  </tbody>\n",
       "</table>\n",
       "</div>"
      ],
      "text/plain": [
       "   도착 행정동 코드 성별  나이 이동인구(합)\n",
       "0    1101053  F  15    8.08\n",
       "1    1101053  F  20    4.39\n",
       "2    1101053  F  20    4.36\n",
       "3    1101053  F  25    6.16\n",
       "4    1101053  F  25    4.09"
      ]
     },
     "execution_count": 48,
     "metadata": {},
     "output_type": "execute_result"
    }
   ],
   "source": [
    "df.head()"
   ]
  },
  {
   "cell_type": "code",
   "execution_count": 49,
   "id": "ddffc176-5b3f-49dc-a16b-244ccf621f8f",
   "metadata": {},
   "outputs": [],
   "source": [
    "# CSV 파일로 저장\n",
    "df.to_csv(\"D:/생활이동_행정동_202306/202306.csv\", index=False, encoding='euc-kr')"
   ]
  }
 ],
 "metadata": {
  "kernelspec": {
   "display_name": "Python 3 (ipykernel)",
   "language": "python",
   "name": "python3"
  },
  "language_info": {
   "codemirror_mode": {
    "name": "ipython",
    "version": 3
   },
   "file_extension": ".py",
   "mimetype": "text/x-python",
   "name": "python",
   "nbconvert_exporter": "python",
   "pygments_lexer": "ipython3",
   "version": "3.11.7"
  }
 },
 "nbformat": 4,
 "nbformat_minor": 5
}
